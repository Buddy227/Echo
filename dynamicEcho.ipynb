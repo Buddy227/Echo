{
 "cells": [
  {
   "cell_type": "code",
   "execution_count": 27,
   "metadata": {
    "scrolled": true
   },
   "outputs": [],
   "source": [
    "#!pip install torch==1.2.0+cpu torchvision==0.4.0+cpu -f https://download.pytorch.org/whl/torch_stable.html\n",
    "#!pip install allennlp\n",
    "#!pip install segmentation-models-pytorch\n",
    "import numpy as np\n",
    "import cv2\n",
    "import torch\n",
    "from matplotlib import pyplot as plt\n",
    "import csv\n",
    "\n",
    "device = torch.device(\"cpu\")\n",
    "\n",
    "load_model = torch.load('C:/Users/Home/Downloads/us_segm.pth',map_location=torch.device('cpu'))\n",
    "load_model.eval()\n",
    "img = cv2.imread('C:/Users/Home/Downloads/Data_US/all/images/Norma/normQL_01/1.bmp')\n",
    "img = cv2.resize(img, (224,224)).astype(np.float32) / 255\n",
    "img = img.transpose((2,0,1))\n",
    "with torch.no_grad():mask_pred = load_model(torch.tensor(img).unsqueeze(0).to(device))\n",
    "\n",
    "plt.imsave('test.png',mask_pred[0][0])\n",
    "    \n",
    "data = [];\n",
    "\n",
    "for i in range(len(mask_pred[0][0])):\n",
    "    for j in range(len(mask_pred[0][0][i])):\n",
    "        if(mask_pred[0][0][i][j].detach().numpy()>0.9):\n",
    "            data.append([i,j])\n",
    "#             print([i,j] , end =' ')\n",
    "            break\n",
    "       \n",
    "for i in range(len(mask_pred[0][0])):\n",
    "    for j in range(len(mask_pred[0][0][i])-1,-1,-1):\n",
    "        if(mask_pred[0][0][i][j].detach().numpy()>0.9):\n",
    "            data.append([i,j])\n",
    "            break\n",
    "            \n",
    "with open('output.csv', 'w') as f:\n",
    "    writer = csv.writer(f)\n",
    "    for row in data:\n",
    "        writer.writerow(row)         "
   ]
  },
  {
   "cell_type": "code",
   "execution_count": null,
   "metadata": {},
   "outputs": [],
   "source": []
  }
 ],
 "metadata": {
  "kernelspec": {
   "display_name": "Python 3",
   "language": "python",
   "name": "python3"
  },
  "language_info": {
   "codemirror_mode": {
    "name": "ipython",
    "version": 3
   },
   "file_extension": ".py",
   "mimetype": "text/x-python",
   "name": "python",
   "nbconvert_exporter": "python",
   "pygments_lexer": "ipython3",
   "version": "3.7.3"
  }
 },
 "nbformat": 4,
 "nbformat_minor": 2
}
